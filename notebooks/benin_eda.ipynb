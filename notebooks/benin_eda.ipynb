{
 "cells": [
  {
   "cell_type": "markdown",
   "id": "c817dbcf",
   "metadata": {},
   "source": [
    "# Togo-Solar Radiation Measurement Data Exploratory Data Analysis"
   ]
  },
  {
   "cell_type": "code",
   "execution_count": null,
   "id": "406c4e28",
   "metadata": {},
   "outputs": [],
   "source": [
    "# import libraries\n",
    "import matplotlib.pyplot as plt\n",
    "import numpy as np\n",
    "import pandas as pd\n",
    "from scipy import stats\n",
    "import seaborn as sns"
   ]
  },
  {
   "cell_type": "markdown",
   "id": "5d7dc227",
   "metadata": {},
   "source": [
    "## Data Profiling"
   ]
  },
  {
   "cell_type": "code",
   "execution_count": null,
   "id": "726498dd",
   "metadata": {},
   "outputs": [],
   "source": [
    "# import data as pandas DataFrame\n",
    "# I added latin encoding because I kept getting UnicodeDecodeError: 'utf-8' codec can't decode byte 0xb2 in position 144: invalid start byte\n",
    "# A better solution is to remove the first line after the headers\n",
    "df = pd.read_csv('../data/benin-malanville_qc.csv')\n",
    "\n",
    "df.set_index('Timestamp', inplace=True)\n",
    "\n",
    "\n",
    "print(df.head())\n",
    "print(\"*\"*100)\n",
    "print(df.tail())\n",
    "print(\"*\"*100)"
   ]
  },
  {
   "cell_type": "code",
   "execution_count": null,
   "id": "6e21bd76",
   "metadata": {},
   "outputs": [],
   "source": [
    "df.info()\n",
    "print(\"*\"*100)\n",
    "print(\"The shape of the dataset is\",df.shape)\n",
    "print(\"*\"*100)"
   ]
  },
  {
   "cell_type": "markdown",
   "id": "18b62c29",
   "metadata": {},
   "source": [
    "## Summary Statistics & Missing-Value Report"
   ]
  },
  {
   "cell_type": "code",
   "execution_count": null,
   "id": "40443824",
   "metadata": {},
   "outputs": [],
   "source": [
    "print(\"*\"*100)\n",
    "print(df.describe())"
   ]
  },
  {
   "cell_type": "code",
   "execution_count": null,
   "id": "5e831fba",
   "metadata": {},
   "outputs": [],
   "source": [
    "# list any column with >5% nulls.\n",
    "columns_with_nulls = [df.isna().sum()[df.isna().sum() > 0.05 * df.shape[0]]]\n",
    "print(columns_with_nulls)"
   ]
  },
  {
   "cell_type": "markdown",
   "id": "5592a110",
   "metadata": {},
   "source": [
    "## Outlier Detection & Basic Cleaning"
   ]
  },
  {
   "cell_type": "code",
   "execution_count": null,
   "id": "1043812b",
   "metadata": {},
   "outputs": [],
   "source": [
    "numeric_columns = [\"GHI\", \"DNI\", \"DHI\", \"ModA\", \"ModB\", \"WS\", \"WSgust\"]\n",
    "\n",
    "# Compute Z score\n",
    "z_scores = np.abs(stats.zscore(df[numeric_columns]))\n",
    "outlier_flags = (z_scores > 3).any(axis=1)\n",
    "# Make sure we got all columns\n",
    "print(outlier_flags.shape)\n",
    "print(\"Number of flagged outliers\", outlier_flags.sum())\n"
   ]
  },
  {
   "cell_type": "code",
   "execution_count": null,
   "id": "f731ccba",
   "metadata": {},
   "outputs": [],
   "source": [
    "# impute columns with missing values\n",
    "\n",
    "for col in numeric_columns:\n",
    "    df.loc[outlier_flags, col] = df[col].median()\n",
    "\n",
    "df_clean = df.drop(columns=['Comments'])\n",
    "df_clean"
   ]
  },
  {
   "cell_type": "code",
   "execution_count": null,
   "id": "df3898ab",
   "metadata": {},
   "outputs": [],
   "source": [
    "# Export cleaned DataFrame\n",
    "path = \"../data/togo_dapaong_clean.csv\"\n",
    "df_clean.to_csv(path)\n",
    "print(\"Clean DataFrame save to \", path)"
   ]
  },
  {
   "cell_type": "markdown",
   "id": "9b2e6cc9",
   "metadata": {},
   "source": [
    "## Time Series Analysis"
   ]
  },
  {
   "cell_type": "code",
   "execution_count": null,
   "id": "2c871da6",
   "metadata": {},
   "outputs": [],
   "source": [
    "# Line or bar charts of GHI, DNI, DHI, Tamb vs. Timestamp.\n",
    "chart_cols = [\"GHI\",\"DNI\",\"DHI\",\"Tamb\"]\n",
    "plt.figure(figsize=(12, 6))\n",
    "\n",
    "for i, col in enumerate(chart_cols):\n",
    "    color=np.random.rand(3,)\n",
    "    plt.subplot(4, 2, i + 1)\n",
    "    plt.plot(df_clean.index, df_clean[col], label=col,color=color)\n",
    "    plt.title(\"Time Series of \" + col)\n",
    "    plt.xlabel('Timestamp')\n",
    "    plt.ylabel(col)        \n",
    "plt.tight_layout()\n",
    "plt.show()"
   ]
  },
  {
   "cell_type": "code",
   "execution_count": null,
   "id": "a84320c6",
   "metadata": {},
   "outputs": [],
   "source": [
    "# Extract month from the index\n",
    "df_clean['month'] = df_clean.index.month\n",
    "\n",
    "# Monthly averages\n",
    "monthly_data = df_clean.groupby('month')[columns].mean()\n",
    "\n",
    "# Plot\n",
    "plt.figure(figsize=(12, 6))\n",
    "monthly_data.plot(kind='line', marker='M')\n",
    "plt.title(\"Monthly Trends in Solar Radiation and Temperature\")\n",
    "plt.xlabel(\"Month\")\n",
    "plt.ylabel(\"Average Value\")\n",
    "plt.grid(True)\n",
    "plt.show()"
   ]
  },
  {
   "cell_type": "markdown",
   "id": "b56bade3",
   "metadata": {},
   "source": [
    "# Cleaning Impact"
   ]
  },
  {
   "cell_type": "code",
   "execution_count": null,
   "id": "3943701d",
   "metadata": {},
   "outputs": [],
   "source": [
    "# Grouping by Cleaning flag and calculating mean of ModA and ModB\n",
    "cleaning_flag= df_clean.groupby('Cleaning')[['ModA', 'ModB']].mean().reset_index()\n",
    "\n",
    "# Melt to reshape the DataFrame for seaborn\n",
    "cleaning_melted = cleaning_flag.melt(id_vars='Cleaning', value_vars=['ModA', 'ModB'], var_name='Module', value_name='Average Irradiance')\n",
    "\n",
    "# Plot\n",
    "plt.figure(figsize=(8, 6))\n",
    "sns.barplot(data=cleaning_melted, x='Module', y='Average Irradiance', hue='Cleaning', palette='Set2')\n",
    "plt.title(\"Impact of Cleaning on Module Irradiance\")\n",
    "plt.ylabel(\"Average Irradiance (W/m²)\")\n",
    "plt.xlabel(\"Sensor Module\")\n",
    "plt.legend(title='Cleaning (0=No, 1=Yes)')\n",
    "plt.show()"
   ]
  },
  {
   "cell_type": "markdown",
   "id": "f5550d36",
   "metadata": {},
   "source": [
    "# Correlation & Relationship Analysis"
   ]
  },
  {
   "cell_type": "code",
   "execution_count": null,
   "id": "149f6626",
   "metadata": {},
   "outputs": [],
   "source": [
    "plt.figure(figsize=(12, 8))\n",
    "correlation_matrix = df[['GHI', 'DNI', 'DHI', 'TModA', 'TModB']].corr()\n",
    "sns.heatmap(correlation_matrix, annot=True, cmap='coolwarm', fmt=\".2f\")\n",
    "plt.title(\"Correlation Heatmap of Solar Radiation and Temperature\")\n",
    "plt.show()"
   ]
  },
  {
   "cell_type": "code",
   "execution_count": null,
   "id": "0054efd5",
   "metadata": {},
   "outputs": [],
   "source": [
    "scatter_data = df_clean[['GHI', 'WS', 'WD', 'WSgust', 'RH', 'Tamb']]\n",
    "pandas.plotting.scatter_matrix(scatter_data, figsize=(12, 12), diagonal='kde')\n",
    "plt.suptitle('Scatter plots: Wind Conditions and Solar Irradiance', y=1.02)\n",
    "plt.show()"
   ]
  },
  {
   "cell_type": "markdown",
   "id": "7f33cd1d",
   "metadata": {},
   "source": [
    "# Wind & Distribution Analysis"
   ]
  },
  {
   "cell_type": "code",
   "execution_count": null,
   "id": "d2890218",
   "metadata": {},
   "outputs": [],
   "source": [
    "\n",
    "df_clean['WD_rad'] = np.deg2rad(df_clean['WD'])\n",
    "\n",
    "plt.figure(figsize=(7, 7))\n",
    "ax = plt.subplot(111, polar=True)\n",
    "ax.scatter(df_clean['WD_rad'], df_clean['WS'], c=df_clean['WS'], cmap='viridis', alpha=0.75)\n",
    "ax.set_theta_zero_location('N')\n",
    "ax.set_theta_direction(-1) \n",
    "ax.set_title('Polar Plot of Wind Speed and Direction')\n",
    "plt.show()"
   ]
  },
  {
   "cell_type": "code",
   "execution_count": null,
   "id": "77a0a40d",
   "metadata": {},
   "outputs": [],
   "source": [
    "# Histogram of GHI, DNI, DHI, Tamb\n",
    "columns = ['GHI', 'DNI', 'DHI', 'Tamb']\n",
    "plt.figure(figsize=(15, 10))\n",
    "for i, col in enumerate(columns):\n",
    "    color = np.random.rand(3,)\n",
    "    plt.subplot(2, 2, i + 1)\n",
    "    sns.histplot(df_clean[col], bins=30, kde=True, edgecolor='black', color=color)\n",
    "    plt.title(\"Histogram of \" + col)\n",
    "    plt.xlabel(col)\n",
    "    plt.ylabel('Frequency')\n",
    "plt.tight_layout()\n",
    "plt.show()\n"
   ]
  },
  {
   "cell_type": "markdown",
   "id": "b96e7daf",
   "metadata": {},
   "source": [
    "# Temperature Analysis"
   ]
  },
  {
   "cell_type": "code",
   "execution_count": null,
   "id": "8e5c5315",
   "metadata": {},
   "outputs": [],
   "source": [
    "# How relative humidity (RH) might influence temperature readings\n",
    "\n",
    "plt.figure(figsize=(10, 5))\n",
    "sns.scatterplot(data=df_clean, x='RH', y='Tamb', hue='GHI', alpha=0.6)\n",
    "plt.title(\"Relative Humidity vs. Temperature with Solar Radiation (GHI) as Hue\")\n",
    "plt.xlabel(\"Relative Humidity (%)\")\n",
    "plt.ylabel(\"Temperature (°C)\")\n",
    "plt.grid(True)\n",
    "plt.show()\n",
    "\n",
    "# How relative humidity (RH) might influence solar radiation (GHI)\n",
    "\n",
    "plt.figure(figsize=(10, 5))\n",
    "sns.scatterplot(data=df_clean, x='RH', y='GHI', hue='Tamb', alpha=0.6)\n",
    "plt.title(\"Relative Humidity vs. Solar Radiation (GHI) with Temperature as Hue\")\n",
    "plt.xlabel(\"Relative Humidity (%)\")\n",
    "plt.ylabel(\"Solar Radiation (GHI) (W/m²)\")\n",
    "plt.grid(True)\n",
    "plt.show()\n"
   ]
  },
  {
   "cell_type": "markdown",
   "id": "d1587881",
   "metadata": {},
   "source": [
    "# Bubble Chart"
   ]
  },
  {
   "cell_type": "code",
   "execution_count": null,
   "id": "348facee",
   "metadata": {},
   "outputs": [],
   "source": [
    "# GHI vs. Tamb with bubble size = RH or BP.\n",
    "\n",
    "plt.figure(figsize=(10, 6))\n",
    "scatter = plt.scatter(data=df_clean, x='GHI', y='Tamb', s=df['RH']*10, c=df['WS'], alpha=0.6,cmap='viridis')\n",
    "plt.title(\"GHI vs. Tamb with Bubble Size = RH\")\n",
    "plt.colorbar(label='Wind Speed (WS)')\n",
    "plt.xlabel(\"Global Horizontal Irradiance (GHI) (W/m²)\")\n",
    "plt.ylabel(\"Temperature (°C)\")\n",
    "plt.grid(True)\n",
    "plt.show()\n",
    "\n",
    "# GHI vs. Tamb with bubble size = BP.\n",
    "\n",
    "plt.figure(figsize=(10, 6))\n",
    "scatter = plt.scatter(data=df_clean, x='GHI', y='Tamb', s=df['BP']*0.1,c=df['WS'], alpha=0.6,cmap='viridis')\n",
    "plt.title(\"GHI vs. Tamb with Bubble Size = BP\")\n",
    "plt.colorbar(label='Wind Speed (WS)')\n",
    "plt.xlabel(\"Global Horizontal Irradiance (GHI) (W/m²)\")\n",
    "plt.ylabel(\"Temperature (°C)\")\n",
    "plt.grid(True)\n",
    "plt.show()"
   ]
  },
  {
   "cell_type": "markdown",
   "id": "bb87ea87",
   "metadata": {},
   "source": [
    "# References\n",
    "- The issue I first encountered - https://stackoverflow.com/questions/55563399/how-to-solve-unicodedecodeerror-utf-8-codec-cant-decode-byte-0xff-in-positio#72642907\n",
    "- How to export - https://pandas.pydata.org/pandas-docs/stable/reference/api/pandas.DataFrame.to_csv.html "
   ]
  },
  {
   "cell_type": "markdown",
   "id": "d4b14861",
   "metadata": {},
   "source": []
  }
 ],
 "metadata": {
  "kernelspec": {
   "display_name": ".venv",
   "language": "python",
   "name": "python3"
  },
  "language_info": {
   "codemirror_mode": {
    "name": "ipython",
    "version": 3
   },
   "file_extension": ".py",
   "mimetype": "text/x-python",
   "name": "python",
   "nbconvert_exporter": "python",
   "pygments_lexer": "ipython3",
   "version": "3.13.3"
  }
 },
 "nbformat": 4,
 "nbformat_minor": 5
}
