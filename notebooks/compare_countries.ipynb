{
 "cells": [
  {
   "cell_type": "code",
   "execution_count": 11,
   "id": "718f018f",
   "metadata": {},
   "outputs": [],
   "source": [
    "import pandas as pd\n",
    "import seaborn as sns\n",
    "import matplotlib.pyplot as plt\n",
    "from scipy.stats import f_oneway"
   ]
  },
  {
   "cell_type": "markdown",
   "id": "53e5af81",
   "metadata": {},
   "source": [
    "## Load each country’s cleaned CSV (data/benin_clean.csv, etc.) locally."
   ]
  },
  {
   "cell_type": "code",
   "execution_count": null,
   "id": "b9f09e02",
   "metadata": {},
   "outputs": [],
   "source": [
    "# Load dataframes\n",
    "benin_df = pd.read_csv(\"../data/benin-malanville_qc_clean.csv\")\n",
    "sierraleone_df = pd.read_csv(\"../data/sierraleone-bumbuna_qc_clean.csv\")\n",
    "togo_df = pd.read_csv(\"../data/togo_dapaong_clean.csv\")\n",
    "\n",
    "# Set country, to be used as xlabel\n",
    "benin_df['country'] = 'Benin'\n",
    "sierraleone_df['country'] = 'Sierra Leone'\n",
    "togo_df['country'] = 'Togo'\n",
    "\n",
    "df = pd.concat([benin_df, sierraleone_df, togo_df])\n",
    "# Data Visualization \n",
    "df.info()"
   ]
  },
  {
   "cell_type": "markdown",
   "id": "4aa64093",
   "metadata": {},
   "source": [
    "## Metric Comparison"
   ]
  },
  {
   "cell_type": "code",
   "execution_count": null,
   "id": "07344429",
   "metadata": {},
   "outputs": [],
   "source": [
    "# Set the figure size\n",
    "plt.figure(figsize=(18, 6))\n",
    "\n",
    "# Create a boxplot for GHI\n",
    "plt.subplot(1, 3, 1)  # 1 row, 3 columns, 1st subplot\n",
    "sns.boxplot(x='country', y='GHI', data=df, palette='Set2')\n",
    "plt.title(\"GHI by Country\")\n",
    "plt.xticks(rotation=45)\n",
    "\n",
    "# Create a boxplot for DNI\n",
    "plt.subplot(1, 3, 2)  # 1 row, 3 columns, 2nd subplot\n",
    "sns.boxplot(x='country', y='DNI', data=df, palette='Set2')\n",
    "plt.title(\"DNI by Country\")\n",
    "plt.xticks(rotation=45)\n",
    "\n",
    "# Create a boxplot for DHI\n",
    "plt.subplot(1, 3, 3)  # 1 row, 3 columns, 3rd subplot\n",
    "sns.boxplot(x='country', y='DHI', data=df, palette='Set2')\n",
    "plt.title(\"DHI by Country\")\n",
    "plt.xticks(rotation=45)\n",
    "\n",
    "# Adjust layout\n",
    "plt.tight_layout()\n",
    "plt.show()\n"
   ]
  },
  {
   "cell_type": "code",
   "execution_count": null,
   "id": "b83b6799",
   "metadata": {},
   "outputs": [],
   "source": [
    "summary_stats = df.groupby('country').agg(\n",
    "    GHI_mean=('GHI', 'mean'),\n",
    "    GHI_median=('GHI', 'median'),\n",
    "    GHI_std=('GHI', 'std'),\n",
    "    DNI_mean=('DNI', 'mean'),\n",
    "    DNI_median=('DNI', 'median'),\n",
    "    DNI_std=('DNI', 'std'),\n",
    "    DHI_mean=('DHI', 'mean'),\n",
    "    DHI_median=('DHI', 'median'),\n",
    "    DHI_std=('DHI', 'std')\n",
    ").reset_index()\n",
    "# Print the summary table\n",
    "print(summary_stats)"
   ]
  },
  {
   "cell_type": "markdown",
   "id": "9d4e3970",
   "metadata": {},
   "source": [
    "## Statistical Testing (optional but recommended)"
   ]
  },
  {
   "cell_type": "code",
   "execution_count": 19,
   "id": "7b512235",
   "metadata": {},
   "outputs": [
    {
     "data": {
      "text/plain": [
       "(np.float64(4345.094298102169), np.float64(0.0))"
      ]
     },
     "execution_count": 19,
     "metadata": {},
     "output_type": "execute_result"
    }
   ],
   "source": [
    "f_statistic, p_value = f_oneway(benin_df[\"GHI\"],sierraleone_df[\"GHI\"],togo_df[\"GHI\"])\n",
    "f_statistic, p_value"
   ]
  },
  {
   "cell_type": "markdown",
   "id": "f5b98839",
   "metadata": {},
   "source": [
    "## Key Observations"
   ]
  },
  {
   "cell_type": "markdown",
   "id": "8cf8ad3d",
   "metadata": {},
   "source": [
    "- **Benin** shows the highest average GHI, indicating it receives the most solar radiation on average compared to other countries.\n",
    "- **Togo** has a significant median GHI, but also exhibits greater variability, suggesting fluctuations in solar radiation levels.\n",
    "- **Sierraleone** ranks lower in average GHI but maintains a consistent level of solar radiation, as indicated by its lower standard deviation."
   ]
  },
  {
   "cell_type": "markdown",
   "id": "53d5fed8",
   "metadata": {},
   "source": [
    "## (Bonus) Visual Summary"
   ]
  },
  {
   "cell_type": "code",
   "execution_count": 20,
   "id": "41a7b831",
   "metadata": {},
   "outputs": [
    {
     "name": "stderr",
     "output_type": "stream",
     "text": [
      "/tmp/ipykernel_6696/2722576197.py:6: FutureWarning: \n",
      "\n",
      "Passing `palette` without assigning `hue` is deprecated and will be removed in v0.14.0. Assign the `y` variable to `hue` and set `legend=False` for the same effect.\n",
      "\n",
      "  sns.barplot(x='GHI', y='country', data=ghi_means, palette='viridis')\n"
     ]
    },
    {
     "data": {
      "image/png": "[encoded data removed]",
      "text/plain": [
       "<Figure size 800x500 with 1 Axes>"
      ]
     },
     "metadata": {},
     "output_type": "display_data"
    }
   ],
   "source": [
    "# Calculate mean GHI per country\n",
    "ghi_means = df.groupby('country')['GHI'].mean().sort_values(ascending=False).reset_index()\n",
    "# Set figure size\n",
    "plt.figure(figsize=(8, 5))\n",
    "# Create barplot\n",
    "sns.barplot(x='GHI', y='country', data=ghi_means, palette='viridis')\n",
    "# Set title and labels\n",
    "plt.title('Average GHI by Country')\n",
    "plt.xlabel('Average GHI')\n",
    "plt.ylabel('Country')\n",
    "# Show plot\n",
    "plt.tight_layout()\n",
    "plt.show()"
   ]
  },
  {
   "cell_type": "code",
   "execution_count": null,
   "id": "82c0fbbf",
   "metadata": {},
   "outputs": [],
   "source": []
  }
 ],
 "metadata": {
  "kernelspec": {
   "display_name": ".venv",
   "language": "python",
   "name": "python3"
  },
  "language_info": {
   "codemirror_mode": {
    "name": "ipython",
    "version": 3
   },
   "file_extension": ".py",
   "mimetype": "text/x-python",
   "name": "python",
   "nbconvert_exporter": "python",
   "pygments_lexer": "ipython3",
   "version": "3.13.3"
  }
 },
 "nbformat": 4,
 "nbformat_minor": 5
}
